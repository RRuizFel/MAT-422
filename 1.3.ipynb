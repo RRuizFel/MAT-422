{
 "cells": [
  {
   "cell_type": "code",
   "execution_count": 29,
   "metadata": {},
   "outputs": [],
   "source": [
    "import numpy as np\n",
    "import matplotlib.pyplot as plt"
   ]
  },
  {
   "cell_type": "markdown",
   "metadata": {},
   "source": [
    "## QR Decomposition"
   ]
  },
  {
   "cell_type": "code",
   "execution_count": 30,
   "metadata": {},
   "outputs": [
    {
     "name": "stdout",
     "output_type": "stream",
     "text": [
      "Matrix A:\n",
      "[[45 48  1]\n",
      " [ 4  4 40]\n",
      " [10 20 22]]\n",
      "\n",
      "Orthogonal Matrix Q: \n",
      "[[ 0.97253263 -0.21260007 -0.09477077]\n",
      " [ 0.08644734 -0.048132    0.99509304]\n",
      " [ 0.21611836  0.97595313  0.02843123]]\n",
      "\n",
      "Upper Triangular Matrix R:\n",
      "[[46.27094121 51.3497227   9.18503037]\n",
      " [ 0.          9.12173111 19.33308881]\n",
      " [ 0.          0.         40.33443807]]\n",
      "\n",
      "Reconstructed Matrix A: \n",
      "[[45. 48.  1.]\n",
      " [ 4.  4. 40.]\n",
      " [10. 20. 22.]]\n",
      "\n",
      "Q is orthogonal\n"
     ]
    }
   ],
   "source": [
    "np.random.seed(0)\n",
    "A = np.random.randint(1, 50, size = (3, 3))\n",
    "\n",
    "m, n = A.shape\n",
    "Q = np.zeros((m, n))\n",
    "R = np.zeros((n, n))\n",
    "\n",
    "c1 = A[:, 0]\n",
    "R[0, 0] = np.linalg.norm(c1)\n",
    "Q[:, 0] = c1 / R[0, 0]\n",
    "\n",
    "c2 = A[:, 1]\n",
    "R[0, 1] = np.dot(Q[:, 0], c2)\n",
    "c2 = c2 - R[0, 1] * Q[:, 0]  \n",
    "R[1, 1] = np.linalg.norm(c2)\n",
    "Q[:, 1] = c2 / R[1, 1]\n",
    "\n",
    "c3 = A[:, 2]\n",
    "R[0, 2] = np.dot(Q[:, 0], c3)  \n",
    "c3 = c3 - R[0, 2] * Q[:, 0]   \n",
    "R[1, 2] = np.dot(Q[:, 1], c3) \n",
    "c3 = c3 - R[1, 2] * Q[:, 1]    \n",
    "R[2, 2] = np.linalg.norm(c3)\n",
    "Q[:, 2] = c3 / R[2, 2]\n",
    "\n",
    "A_re = np.dot(Q, R)\n",
    "ortho_check  = np.allclose(np.dot(Q.T, Q), np.eye(n)) \n",
    "\n",
    "print(\"Matrix A:\")\n",
    "print(A)\n",
    "print(\"\\nOrthogonal Matrix Q: \")\n",
    "print(Q)\n",
    "print(\"\\nUpper Triangular Matrix R:\")\n",
    "print(R)\n",
    "print(\"\\nReconstructed Matrix A: \")\n",
    "print(A_re)\n",
    "\n",
    "if ortho_check == True:\n",
    "    print(\"\\nQ is orthogonal\")\n",
    "else:\n",
    "    print(\"\\nQ is not orthogonal\")"
   ]
  },
  {
   "cell_type": "markdown",
   "metadata": {},
   "source": [
    "## Least-squares Problems"
   ]
  },
  {
   "cell_type": "code",
   "execution_count": 31,
   "metadata": {},
   "outputs": [
    {
     "name": "stdout",
     "output_type": "stream",
     "text": [
      "Matrix A:\n",
      "[[1 1]\n",
      " [1 2]\n",
      " [1 3]]\n",
      "\n",
      "Vector b:\n",
      "[1 2 2]\n",
      "\n",
      "Solution x:\n",
      "[0.66666667 0.5       ]\n"
     ]
    }
   ],
   "source": [
    "A = np.array([[1, 1],\n",
    "               [1, 2],\n",
    "               [1, 3]])\n",
    "b = np.array([1, 2, 2])\n",
    "\n",
    "A_T_a = A.T @ A\n",
    "A_T_b = A.T @ b\n",
    "x = np.linalg.inv(A_T_a) @ A_T_b\n",
    "\n",
    "print(\"Matrix A:\")\n",
    "print(A)\n",
    "print(\"\\nVector b:\")\n",
    "print(b)\n",
    "print(\"\\nSolution x:\")\n",
    "print(x)"
   ]
  },
  {
   "cell_type": "markdown",
   "metadata": {},
   "source": [
    "## Linear Regressoin"
   ]
  },
  {
   "cell_type": "code",
   "execution_count": 32,
   "metadata": {},
   "outputs": [
    {
     "data": {
      "image/png": "[encoded data removed]",
      "text/plain": [
       "<Figure size 640x480 with 1 Axes>"
      ]
     },
     "metadata": {},
     "output_type": "display_data"
    }
   ],
   "source": [
    "np.random.seed(1)\n",
    "x = 2 * np.random.rand(100,1)\n",
    "y = 4 + 3 * x + np.random.randn(100, 1)\n",
    "\n",
    "x_bias = np.c_[np.ones((100, 1)), x]\n",
    "\n",
    "#(x^T x)^-1 x^T y\n",
    "x_T_X = x_bias.T @ x_bias\n",
    "x_T_y = x_bias.T @ y\n",
    "\n",
    "best_theta = np.linalg.inv(x_T_X) @ x_T_y\n",
    "\n",
    "plt.plot(x, y, \"b. \", label = \"Data Points\")\n",
    "plt.plot(x, x_bias @ best_theta, \"r-\", label = \"Line of Best Fit\")\n",
    "plt.xlabel(\"x\")\n",
    "plt.ylabel(\"y\")\n",
    "plt.legend()\n",
    "plt.show()"
   ]
  }
 ],
 "metadata": {
  "kernelspec": {
   "display_name": "bmi",
   "language": "python",
   "name": "python3"
  },
  "language_info": {
   "codemirror_mode": {
    "name": "ipython",
    "version": 3
   },
   "file_extension": ".py",
   "mimetype": "text/x-python",
   "name": "python",
   "nbconvert_exporter": "python",
   "pygments_lexer": "ipython3",
   "version": "3.12.1"
  }
 },
 "nbformat": 4,
 "nbformat_minor": 2
}
