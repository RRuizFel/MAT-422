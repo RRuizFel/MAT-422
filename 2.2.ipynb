{
 "cells": [
  {
   "cell_type": "code",
   "execution_count": 27,
   "metadata": {},
   "outputs": [],
   "source": [
    "import numpy as np\n",
    "import random\n",
    "import matplotlib.pyplot as plt"
   ]
  },
  {
   "cell_type": "markdown",
   "metadata": {},
   "source": [
    "# Probability Axioms"
   ]
  },
  {
   "cell_type": "code",
   "execution_count": 20,
   "metadata": {},
   "outputs": [
    {
     "name": "stdout",
     "output_type": "stream",
     "text": [
      "Non-negativity:  <generator object <genexpr> at 0x10e3f4110>\n",
      "Normalization:  True\n",
      "Additivity of A or B:  True\n"
     ]
    }
   ],
   "source": [
    "S = ['A', 'B', 'C']\n",
    "P = [0.2, 0.5, 0.3]\n",
    "\n",
    "non_negativity = (P >= 0 for p in P)\n",
    "print(\"Non-negativity: \", non_negativity)\n",
    "\n",
    "normalization = (sum(P) == 1)\n",
    "print(\"Normalization: \", normalization)\n",
    "\n",
    "P_A = P[0]\n",
    "P_B = P[1]\n",
    "P_A_or_B = P_A + P_B\n",
    "additivity = P_A_or_B == (P[0] + P[1])\n",
    "print(\"Additivity of A or B: \", additivity)\n"
   ]
  },
  {
   "cell_type": "markdown",
   "metadata": {},
   "source": [
    "# Conditional Probability"
   ]
  },
  {
   "cell_type": "code",
   "execution_count": 22,
   "metadata": {},
   "outputs": [
    {
     "name": "stdout",
     "output_type": "stream",
     "text": [
      "P(A|B):  0.2\n"
     ]
    }
   ],
   "source": [
    "P_A = 0.2 \n",
    "P_B = 0.3\n",
    "P_A_and_B = P_A * P_B\n",
    "\n",
    "P_A_given_B = P_A_and_B / P_B\n",
    "print(\"P(A|B): \", P_A_given_B)"
   ]
  },
  {
   "cell_type": "markdown",
   "metadata": {},
   "source": [
    "# Discrete Random Variables"
   ]
  },
  {
   "cell_type": "code",
   "execution_count": 25,
   "metadata": {},
   "outputs": [
    {
     "name": "stdout",
     "output_type": "stream",
     "text": [
      "Expected value:  2.9\n"
     ]
    }
   ],
   "source": [
    "die_sides = list(range(1, 7))\n",
    "probabilities = np.array([1/6] * 6)\n",
    "rolls = np.random.choice(die_sides, size = 10, p = probabilities)\n",
    "mean_roll = np.mean(rolls)\n",
    "print(\"Expected value: \", mean_roll)"
   ]
  },
  {
   "cell_type": "markdown",
   "metadata": {},
   "source": [
    "# Continues Random Variables"
   ]
  },
  {
   "cell_type": "code",
   "execution_count": 31,
   "metadata": {},
   "outputs": [
    {
     "name": "stdout",
     "output_type": "stream",
     "text": [
      "Sample Mean:  -0.049211202278401256\n",
      "Sample Standard Deviation:  0.9799598424195819\n"
     ]
    },
    {
     "data": {
      "text/plain": [
       "Text(0.5, 1.0, 'Samples from Normal Distribution Histogram')"
      ]
     },
     "execution_count": 31,
     "metadata": {},
     "output_type": "execute_result"
    },
    {
     "data": {
      "image/png": "[encoded data removed]",
      "text/plain": [
       "<Figure size 640x480 with 1 Axes>"
      ]
     },
     "metadata": {},
     "output_type": "display_data"
    }
   ],
   "source": [
    "samples = np.random.normal(0, 1, 100)\n",
    "mean_sample = np.mean(samples)\n",
    "sd_sample = np.std(samples)\n",
    "print(\"Sample Mean: \", mean_sample)\n",
    "print(\"Sample Standard Deviation: \", sd_sample)\n",
    "\n",
    "plt.hist(samples, density = True)\n",
    "plt.xlabel(\"Value\")\n",
    "plt.ylabel(\"Density\")\n",
    "plt.title(\"Samples from Normal Distribution Histogram\")"
   ]
  }
 ],
 "metadata": {
  "kernelspec": {
   "display_name": "bmi",
   "language": "python",
   "name": "python3"
  },
  "language_info": {
   "codemirror_mode": {
    "name": "ipython",
    "version": 3
   },
   "file_extension": ".py",
   "mimetype": "text/x-python",
   "name": "python",
   "nbconvert_exporter": "python",
   "pygments_lexer": "ipython3",
   "version": "3.12.1"
  }
 },
 "nbformat": 4,
 "nbformat_minor": 2
}
