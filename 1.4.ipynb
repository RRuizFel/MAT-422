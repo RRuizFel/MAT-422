{
 "cells": [
  {
   "cell_type": "code",
   "execution_count": 17,
   "metadata": {},
   "outputs": [
    {
     "name": "stdout",
     "output_type": "stream",
     "text": [
      "[[1 2]\n",
      " [3 4]\n",
      " [5 6]]\n"
     ]
    }
   ],
   "source": [
    "import numpy as np\n",
    "\n",
    "A = np.array([[1, 2], [3, 4], [5, 6]])\n",
    "print(A)"
   ]
  },
  {
   "cell_type": "markdown",
   "metadata": {},
   "source": [
    "# Singular Value Decomposition"
   ]
  },
  {
   "cell_type": "code",
   "execution_count": 18,
   "metadata": {},
   "outputs": [
    {
     "name": "stdout",
     "output_type": "stream",
     "text": [
      "U: \n",
      " [[-0.2298477   0.88346102]\n",
      " [-0.52474482  0.24078249]\n",
      " [-0.81964194 -0.40189603]]\n",
      "Sigma:\n",
      " [[9.52551809 0.        ]\n",
      " [0.         0.51430058]\n",
      " [0.         0.        ]]\n",
      "V^T:\n",
      " [[-0.61962948 -0.78489445]\n",
      " [-0.78489445  0.61962948]]\n"
     ]
    }
   ],
   "source": [
    "def svd(A):\n",
    "    ATA = np.dot(A.T, A)\n",
    "    eigen_v, v = np.linalg.eig(ATA)\n",
    "    sort = np.argsort(eigen_v)[: : -1]\n",
    "    eigen_v = eigen_v[sort]\n",
    "    v = v[:, sort]\n",
    "    sing_val = np.sqrt(eigen_v)\n",
    "    u = np.dot(A, v)\n",
    "    u = u / sing_val\n",
    "    sigma = np.zeros_like(A, dtype=float)\n",
    "    np.fill_diagonal(sigma, sing_val)\n",
    "    \n",
    "    return u, sigma, v.T\n",
    "\n",
    "u, sigma, vT = svd(A)\n",
    "print(\"U: \\n\", u)\n",
    "print(\"Sigma:\\n\", sigma)\n",
    "print(\"V^T:\\n\", vT)"
   ]
  },
  {
   "cell_type": "markdown",
   "metadata": {},
   "source": [
    "# Low-rank Matrix Approximations"
   ]
  },
  {
   "cell_type": "code",
   "execution_count": 19,
   "metadata": {},
   "outputs": [
    {
     "name": "stdout",
     "output_type": "stream",
     "text": [
      "Low-rank approximation:\n",
      " [[1.35662819 1.71846235]\n",
      " [3.09719707 3.92326845]\n",
      " [4.83776596 6.12807454]]\n"
     ]
    }
   ],
   "source": [
    "def lr_a(A, k):\n",
    "    u, sigma, vT = svd(A)\n",
    "    u_k = u[:, :k]\n",
    "    sigma_k = sigma[:k, :k]\n",
    "    vT_k = vT[:k, :]\n",
    "\n",
    "    A_k = np.dot(u_k, np.dot(sigma_k, vT_k))\n",
    "\n",
    "    return A_k\n",
    "\n",
    "A_k = lr_a(A, k=1)\n",
    "print(\"Low-rank approximation:\\n\", A_k)"
   ]
  },
  {
   "cell_type": "markdown",
   "metadata": {},
   "source": [
    "# Principal Component Analysis"
   ]
  },
  {
   "cell_type": "code",
   "execution_count": 20,
   "metadata": {},
   "outputs": [
    {
     "name": "stdout",
     "output_type": "stream",
     "text": [
      "PCA Result:\n",
      " [[-2.82842712]\n",
      " [ 0.        ]\n",
      " [ 2.82842712]]\n"
     ]
    }
   ],
   "source": [
    "def pca(A, n_comp):\n",
    "    A_cent = A - np.mean(A, axis=0)\n",
    "    cov_mat = np.dot(A_cent.T, A_cent) / (A_cent.shape[0] - 1)\n",
    "    u, sigma, vT = svd(cov_mat)\n",
    "    W = vT.T[:, :n_comp]\n",
    "    A_pca = np.dot(A_cent, W)\n",
    "\n",
    "    return A_pca\n",
    "\n",
    "A_pca = pca(A, n_comp=1)\n",
    "print(\"PCA Result:\\n\", A_pca)"
   ]
  }
 ],
 "metadata": {
  "kernelspec": {
   "display_name": "bmi",
   "language": "python",
   "name": "python3"
  },
  "language_info": {
   "codemirror_mode": {
    "name": "ipython",
    "version": 3
   },
   "file_extension": ".py",
   "mimetype": "text/x-python",
   "name": "python",
   "nbconvert_exporter": "python",
   "pygments_lexer": "ipython3",
   "version": "3.12.1"
  }
 },
 "nbformat": 4,
 "nbformat_minor": 2
}
