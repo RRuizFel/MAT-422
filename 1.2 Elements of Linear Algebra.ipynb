{
 "cells": [
  {
   "cell_type": "code",
   "execution_count": 1,
   "metadata": {},
   "outputs": [],
   "source": [
    "import numpy as np"
   ]
  },
  {
   "cell_type": "markdown",
   "metadata": {},
   "source": [
    "## 1.2.1 Linear spaces"
   ]
  },
  {
   "cell_type": "code",
   "execution_count": 3,
   "metadata": {},
   "outputs": [
    {
     "name": "stdout",
     "output_type": "stream",
     "text": [
      "Vector v1: [1 2 3]\n",
      "Vector v2: [4 5 6]\n",
      "Vector addition: [5 7 9]\n",
      "Scalar multiplication: [10 20 30]\n"
     ]
    }
   ],
   "source": [
    "v1 = np.array([1,2,3])\n",
    "v2 = np.array([4,5,6])\n",
    "\n",
    "#Vector addition\n",
    "v_addition = v1 + v2\n",
    "\n",
    "#Scalar multiplication\n",
    "scalar = 10\n",
    "v_scalar = v1 * scalar\n",
    "\n",
    "print(\"Vector v1:\", v1)\n",
    "print(\"Vector v2:\", v2)\n",
    "print(\"Vector addition:\", v_addition)\n",
    "print(\"Scalar multiplication:\", v_scalar)"
   ]
  },
  {
   "cell_type": "markdown",
   "metadata": {},
   "source": [
    "## 1.2.2 Orthogonality"
   ]
  },
  {
   "cell_type": "code",
   "execution_count": 10,
   "metadata": {},
   "outputs": [
    {
     "name": "stdout",
     "output_type": "stream",
     "text": [
      "Vector u: [1 0 0]\n",
      "Vector v: [0 1 0]\n",
      "Dot product: 0\n",
      "Vectors u and v are orthogonal.\n"
     ]
    }
   ],
   "source": [
    "v = np.array([0, 1, 0])\n",
    "u = np.array([1, 0, 0])\n",
    "\n",
    "#dot product\n",
    "dot_prdct = np.dot(u, v)\n",
    "\n",
    "print(\"Vector u:\", u)\n",
    "print(\"Vector v:\", v)\n",
    "print(\"Dot product:\", dot_prdct)\n",
    "\n",
    "if dot_prdct == 0:\n",
    "    print(\"Vectors u and v are orthogonal.\")\n",
    "else:\n",
    "    print(\"Vectors u and v aren't orthogonal.\")\n"
   ]
  },
  {
   "cell_type": "markdown",
   "metadata": {},
   "source": [
    "## 1.2.3 Gram-Schmidt process"
   ]
  },
  {
   "cell_type": "code",
   "execution_count": 16,
   "metadata": {},
   "outputs": [
    {
     "name": "stdout",
     "output_type": "stream",
     "text": [
      "Orthogonal vectors:\n",
      "[[1. 0.]\n",
      " [0. 1.]]\n",
      "Orthonormal vectors after Gram-Schmidt process:\n",
      "[[1. 0.]\n",
      " [0. 1.]]\n"
     ]
    }
   ],
   "source": [
    "v1 = np.array([1.0, 0.0])\n",
    "v2 = np.array([1.0, 1.0])\n",
    "vectors = np.array([v1, v2])\n",
    "\n",
    "ortho_vectors = []\n",
    "\n",
    "# Gram-Schmidt \n",
    "for v in vectors:\n",
    "    w = v.copy()\n",
    "    for u in ortho_vectors:\n",
    "        w -= np.dot(u, v) / np.dot(u, u) * u\n",
    "    ortho_vectors.append(w)\n",
    "\n",
    "ortho_vectors = np.array(ortho_vectors)\n",
    "\n",
    "print(\"Orthogonal vectors:\")\n",
    "print(ortho_vectors)\n",
    "\n",
    "ortho_vectors_norm = np.array([v / np.linalg.norm(v) for v in ortho_vectors])\n",
    "\n",
    "print(\"Orthonormal vectors after Gram-Schmidt process:\")\n",
    "print(ortho_vectors_norm)\n"
   ]
  },
  {
   "cell_type": "markdown",
   "metadata": {},
   "source": [
    "## 1.2.4 Eigenvalues and eigenvectors"
   ]
  },
  {
   "cell_type": "code",
   "execution_count": 19,
   "metadata": {},
   "outputs": [
    {
     "name": "stdout",
     "output_type": "stream",
     "text": [
      "Matrix A:\n",
      "[[1 2]\n",
      " [1 2]]\n",
      "Eigenvalues of A: [0. 3.]\n",
      "Eigenvectors of A:\n",
      "[[-0.89442719 -0.70710678]\n",
      " [ 0.4472136  -0.70710678]]\n"
     ]
    }
   ],
   "source": [
    "m1 = np.array([[1,2],\n",
    "               [1,2]])\n",
    "\n",
    "eigenvalues, eigenvectors = np.linalg.eig(m1)\n",
    "print(\"Matrix A:\")\n",
    "print(m1)\n",
    "print(\"Eigenvalues of A:\", eigenvalues)\n",
    "print(\"Eigenvectors of A:\")\n",
    "print(eigenvectors)"
   ]
  }
 ],
 "metadata": {
  "kernelspec": {
   "display_name": "bmi",
   "language": "python",
   "name": "python3"
  },
  "language_info": {
   "codemirror_mode": {
    "name": "ipython",
    "version": 3
   },
   "file_extension": ".py",
   "mimetype": "text/x-python",
   "name": "python",
   "nbconvert_exporter": "python",
   "pygments_lexer": "ipython3",
   "version": "3.12.1"
  }
 },
 "nbformat": 4,
 "nbformat_minor": 2
}
