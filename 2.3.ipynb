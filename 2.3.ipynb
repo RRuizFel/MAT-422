{
 "cells": [
  {
   "cell_type": "code",
   "execution_count": 6,
   "metadata": {},
   "outputs": [],
   "source": [
    "import numpy as np\n",
    "X = np.random.randint(0, 5, 1000)\n",
    "Y = np.random.randint(0, 5, 1000)"
   ]
  },
  {
   "cell_type": "markdown",
   "metadata": {},
   "source": [
    "# Joint Probability Distributions"
   ]
  },
  {
   "cell_type": "code",
   "execution_count": 15,
   "metadata": {},
   "outputs": [
    {
     "name": "stdout",
     "output_type": "stream",
     "text": [
      "Joint Probability Distribution: \n"
     ]
    },
    {
     "data": {
      "text/plain": [
       "(None,\n",
       " array([[0.049, 0.045, 0.028, 0.046, 0.05 ],\n",
       "        [0.044, 0.045, 0.035, 0.04 , 0.033],\n",
       "        [0.038, 0.033, 0.047, 0.036, 0.032],\n",
       "        [0.036, 0.042, 0.037, 0.035, 0.045],\n",
       "        [0.03 , 0.032, 0.041, 0.05 , 0.051]]))"
      ]
     },
     "execution_count": 15,
     "metadata": {},
     "output_type": "execute_result"
    }
   ],
   "source": [
    "joint_prob = np.zeros((5, 5))\n",
    "for x, y in zip(X, Y):\n",
    "    joint_prob[x, y] += 1\n",
    "joint_prob /= joint_prob.sum()\n",
    "print(\"Joint Probability Distribution: \"), joint_prob"
   ]
  },
  {
   "cell_type": "markdown",
   "metadata": {},
   "source": [
    "# Correlation and Dependence"
   ]
  },
  {
   "cell_type": "code",
   "execution_count": 10,
   "metadata": {},
   "outputs": [
    {
     "name": "stdout",
     "output_type": "stream",
     "text": [
      "Correlation coeficient of X and Y:  0.07445881659586266\n"
     ]
    }
   ],
   "source": [
    "n = len(X)\n",
    "sum_x = sum(X)\n",
    "sum_y = sum(Y)\n",
    "sum_xy = sum(X*Y)\n",
    "sum_x2 = sum(X**2)\n",
    "sum_y2 = sum(Y**2)\n",
    "numerator = n * sum_xy - sum_x * sum_y\n",
    "denominator = np.sqrt((n * sum_x2 - sum_x**2) * (n * sum_y2 - sum_y**2))\n",
    "corr = numerator / denominator if denominator != 0 else 0\n",
    "print(\"Correlation coeficient of X and Y: \", corr)"
   ]
  },
  {
   "cell_type": "markdown",
   "metadata": {},
   "source": [
    "# Random Samples"
   ]
  },
  {
   "cell_type": "code",
   "execution_count": 2,
   "metadata": {},
   "outputs": [
    {
     "name": "stdout",
     "output_type": "stream",
     "text": [
      "Sample Mean: 0.006319365613931734\n",
      "Sample Standard Deviation: 0.1006599449254955\n"
     ]
    }
   ],
   "source": [
    "mu, sigma = 0, 0.1\n",
    "samples = np.random.normal(mu, sigma, 1000)\n",
    "sample_mean = np.mean(samples)\n",
    "sample_std = np.std(samples)\n",
    "\n",
    "print(\"Sample Mean:\", sample_mean)\n",
    "print(\"Sample Standard Deviation:\", sample_std)"
   ]
  }
 ],
 "metadata": {
  "kernelspec": {
   "display_name": "bmi",
   "language": "python",
   "name": "python3"
  },
  "language_info": {
   "codemirror_mode": {
    "name": "ipython",
    "version": 3
   },
   "file_extension": ".py",
   "mimetype": "text/x-python",
   "name": "python",
   "nbconvert_exporter": "python",
   "pygments_lexer": "ipython3",
   "version": "3.12.1"
  }
 },
 "nbformat": 4,
 "nbformat_minor": 2
}
